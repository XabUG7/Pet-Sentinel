{
 "cells": [
  {
   "cell_type": "markdown",
   "id": "3bc7c171-e2de-4f0d-a76b-c0ff1e041d73",
   "metadata": {},
   "source": [
    "## This notebook gets the images from a google drive folder and saves them as tensors"
   ]
  },
  {
   "cell_type": "code",
   "execution_count": 5,
   "id": "b0da0782-b037-4be7-8e40-87cc10015893",
   "metadata": {},
   "outputs": [],
   "source": [
    "import os\n",
    "import io\n",
    "import cv2\n",
    "import tqdm\n",
    "import torch\n",
    "import h5py\n",
    "import gc\n",
    "import numpy as np\n",
    "\n",
    "import torchvision.transforms as transforms\n",
    "from pillow_heif import register_heif_opener\n",
    "from PIL import Image\n",
    "\n",
    "\n",
    "\n",
    "from google.auth.transport.requests import Request\n",
    "from google.oauth2.credentials import Credentials\n",
    "from google_auth_oauthlib.flow import InstalledAppFlow\n",
    "from googleapiclient.discovery import build\n",
    "from googleapiclient.errors import HttpError\n",
    "from googleapiclient.http import MediaIoBaseDownload\n"
   ]
  },
  {
   "cell_type": "markdown",
   "id": "8bb4c25a-e397-45c2-b1a5-0b9ce2e7d814",
   "metadata": {},
   "source": [
    "To run below code it is required to have cloud access to our google drive"
   ]
  },
  {
   "cell_type": "code",
   "execution_count": 2,
   "id": "b27e7267-bbff-43d9-a081-8f810d0829e3",
   "metadata": {},
   "outputs": [
    {
     "name": "stderr",
     "output_type": "stream",
     "text": [
      "100%|████████████████████████████████████████████████████████████████████████████████████████████| 1/1 [00:00<?, ?it/s]\n"
     ]
    },
    {
     "name": "stdout",
     "output_type": "stream",
     "text": [
      "Saving same dog tensors to h5 file.\n"
     ]
    },
    {
     "name": "stderr",
     "output_type": "stream",
     "text": [
      "0it [00:00, ?it/s]\n",
      "100%|████████████████████████████████████████████████████████████████████████████████████| 1/1 [00:02<00:00,  2.76s/it]\n"
     ]
    },
    {
     "name": "stdout",
     "output_type": "stream",
     "text": [
      "Saving same cat tensors to h5 file.\n"
     ]
    },
    {
     "name": "stderr",
     "output_type": "stream",
     "text": [
      "1it [00:00,  4.33it/s]\n",
      "100%|████████████████████████████████████████████████████████████████████████████████████| 1/1 [00:02<00:00,  2.01s/it]\n"
     ]
    },
    {
     "name": "stdout",
     "output_type": "stream",
     "text": [
      "Saving random cats tensors to h5 file.\n"
     ]
    },
    {
     "name": "stderr",
     "output_type": "stream",
     "text": [
      "1it [00:00,  4.40it/s]\n",
      "100%|████████████████████████████████████████████████████████████████████████████████████| 1/1 [00:01<00:00,  1.10s/it]\n"
     ]
    },
    {
     "name": "stdout",
     "output_type": "stream",
     "text": [
      "Saving random dogs tensors to h5 file.\n"
     ]
    },
    {
     "name": "stderr",
     "output_type": "stream",
     "text": [
      "1it [00:00, 407.29it/s]\n"
     ]
    }
   ],
   "source": [
    "SCOPES = [\"https://www.googleapis.com/auth/drive\"]\n",
    "\n",
    "creds = None\n",
    "\n",
    "if os.path.exists(\"token.json\"):\n",
    "    creds = Credentials.from_authorized_user_file(\"token.json\", SCOPES)\n",
    "\n",
    "\n",
    "if not creds or not creds.valid:\n",
    "    if creds and creds.expired and creds.refresh_token:\n",
    "        creds.refresh(Request())\n",
    "        \n",
    "    else:\n",
    "        flow = InstalledAppFlow.from_client_secrets_file(\n",
    "            \"cloud_client.json\", SCOPES)\n",
    "\n",
    "        creds = flow.run_local_server(port=0)\n",
    "\n",
    "\n",
    "with open(\"token.json\", \"w\") as token:\n",
    "    token.write(creds.to_json())\n",
    "\n",
    "\n",
    "\n",
    "try:\n",
    "\n",
    "    # Start Google drive cloud service\n",
    "    service = build(\"drive\", \"v3\", credentials=creds)\n",
    "\n",
    "    # Get list of files matching q query\n",
    "    # These files will list the folders inside the shared folder\n",
    "    response = service.files().list(\n",
    "        q=\"sharedWithMe and mimeType ='application/vnd.google-apps.folder' and name contains 'Capstone'\", # and name contains 'cat'\",\n",
    "        spaces=\"drive\"\n",
    "    ).execute()\n",
    "        \n",
    "    # List of files that matched the q query\n",
    "    capstone_folders = response.get('files', [])\n",
    "\n",
    "    # Save here all children folders:\n",
    "    # random cat, same cat, random dog, same dog\n",
    "    children_folders = []\n",
    "    \n",
    "    if not capstone_folders:\n",
    "        print('No capstone folder found.')\n",
    "        \n",
    "    else:\n",
    "\n",
    "        for parent_folder in capstone_folders:\n",
    "\n",
    "            capstone_id = parent_folder[\"id\"]\n",
    "\n",
    "            # Get the list of all the folders inside the folder parent_folder[\"id\"]\n",
    "            response = service.files().list(\n",
    "                q=f\"'{capstone_id}' in parents and mimeType='application/vnd.google-apps.folder'\", # and name contains 'cat'\",\n",
    "                spaces=\"drive\"\n",
    "            ).execute()\n",
    "\n",
    "            child_folders_temp = response.get('files', [])\n",
    "\n",
    "            if child_folders_temp:\n",
    "                for child_folder in child_folders_temp:\n",
    "                    children_folders.append(child_folder)\n",
    "\n",
    "\n",
    "    animal_files_in_folders = {}\n",
    "    \n",
    "    # Read images folder by folder to get file IDs from the following folders:\n",
    "    # random cat, same cat, random dog, same dog\n",
    "    for fold in children_folders:\n",
    "\n",
    "        # Get a list of all the files that are videos or images and save them in a dictionary \n",
    "        animal_files  = service.files().list(\n",
    "            q=f\"'{fold[\"id\"]}' in parents  and (mimeType contains 'image/' or mimeType contains 'video/')\",\n",
    "            spaces='drive',\n",
    "            fields=\"files(id, name, mimeType)\",\n",
    "            pageSize=1000,\n",
    "        ).execute()\n",
    "\n",
    "        # Keys of the dictionary are the folders:\n",
    "        # random cat, same cat, random dog, same dog\n",
    "        animal_files_in_folders[fold[\"name\"]] = animal_files.get('files', [])\n",
    "\n",
    "\n",
    "    # Save here all the pictures as tensors and labels\n",
    "    tensor_dictionary = {}\n",
    "    label_dictionary = {}\n",
    "\n",
    "    # Loop over each folder: random cat, same cat, random dog, same dog\n",
    "    for animal_fold in list(animal_files_in_folders.keys()):\n",
    "        tensor_dictionary[animal_fold] = []\n",
    "        label_dictionary[animal_fold] = []\n",
    "\n",
    "        # Loop over each file of a folder\n",
    "        for file in tqdm.tqdm(animal_files_in_folders[animal_fold]):\n",
    "                        \n",
    "            file_id = file[\"id\"]\n",
    "\n",
    "            # If it is an image, process it like an image\n",
    "            if \"image\" in file[\"mimeType\"].lower():\n",
    "    \n",
    "                # Download the image from Google Drive\n",
    "                request = service.files().get_media(fileId=file_id)\n",
    "                fh = io.BytesIO()\n",
    "                downloader = MediaIoBaseDownload(fh, request)\n",
    "                \n",
    "                done = False\n",
    "                while not done:\n",
    "                    status, done = downloader.next_chunk()\n",
    "                \n",
    "                fh.seek(0)\n",
    "                \n",
    "                # Step 3: Enable HEIF support in Pillow\n",
    "                register_heif_opener()\n",
    "                \n",
    "                # Open image with Pillow\n",
    "                try:\n",
    "                    image = Image.open(fh).convert('RGB')                   \n",
    "                    \n",
    "                    # Convert to PyTorch tensor\n",
    "                    transform = transforms.ToTensor()\n",
    "                    tensor_image = transform(image)\n",
    "    \n",
    "                    # Add the image as a tensor to the dictionary of tensors\n",
    "                    tensor_dictionary[animal_fold].append(tensor_image)\n",
    "    \n",
    "                    # Add to the dictionary of labels the label of the animal\n",
    "                    label_dictionary[animal_fold].append(animal_fold + \"_from_image\")\n",
    "\n",
    "                except:\n",
    "                    print(f\"Skipping file {file}: Unidentified image format.\")\n",
    "                    continue\n",
    "                \n",
    "\n",
    "\n",
    "\n",
    "\n",
    "            # If it is a video, process it here\n",
    "            elif \"vid\" in file[\"mimeType\"].lower():\n",
    "\n",
    "                # Every n secods take a frame\n",
    "                n = 2\n",
    "\n",
    "\n",
    "                request = service.files().get_media(fileId=file_id)\n",
    "                video_bytes = io.BytesIO()\n",
    "                downloader = MediaIoBaseDownload(video_bytes, request)\n",
    "                \n",
    "                done = False\n",
    "                while not done:\n",
    "                    status, done = downloader.next_chunk()\n",
    "                \n",
    "                video_bytes.seek(0)\n",
    "                \n",
    "                # Save video to disk temporarily\n",
    "                with open(\"temp_video.mp4\", \"wb\") as temp_video_file:\n",
    "                    temp_video_file.write(video_bytes.read())\n",
    "                \n",
    "                # Extract frames every n seconds and convert to tensors\n",
    "                transform = transforms.ToTensor()\n",
    "                video_capture = cv2.VideoCapture(\"temp_video.mp4\")\n",
    "                \n",
    "                fps = video_capture.get(cv2.CAP_PROP_FPS)\n",
    "                interval = int(fps * n)  # Frame interval for n seconds\n",
    "                frame_id = 0\n",
    "                \n",
    "                while video_capture.isOpened():\n",
    "                    ret, frame = video_capture.read()\n",
    "                    if not ret:\n",
    "                        break\n",
    "                    if frame_id % interval == 0:\n",
    "                        rgb_frame = cv2.cvtColor(frame, cv2.COLOR_BGR2RGB)\n",
    "                        pil_image = Image.fromarray(rgb_frame)\n",
    "                        tensor_image = transform(pil_image)\n",
    "                        \n",
    "                        # Add the image as a tensor to the dictionary of tensors\n",
    "                        tensor_dictionary[animal_fold].append(tensor_image)\n",
    "        \n",
    "                        # Add to the dictionary of labels the label of the animal\n",
    "                        label_dictionary[animal_fold].append(animal_fold + \"_from_video\")\n",
    "                        \n",
    "                    frame_id += 1\n",
    "                \n",
    "                video_capture.release()\n",
    "\n",
    "        print(f\"Saving {animal_fold} tensors to h5 file.\")\n",
    "        \n",
    "        with h5py.File(f\"assets/raw dataset/pet_sentinel_data_{animal_fold}.h5\", 'w') as f:\n",
    "            for key in tensor_dictionary:\n",
    "                group = f.create_group(key)\n",
    "                for i, (tensor, label) in tqdm.tqdm(enumerate(zip(tensor_dictionary[key], label_dictionary[key]))):\n",
    "                    dset = group.create_dataset(f'tensor_{i}', data=tensor)\n",
    "                    dset.attrs['label'] = label  # Store label as attribute\n",
    "\n",
    "        # Delete the tensor list to free space in memory\n",
    "        del tensor_dictionary[animal_fold] \n",
    "        gc.collect()\n",
    "\n",
    "\n",
    "        \n",
    "\n",
    "\n",
    "except HttpError as e:\n",
    "    print(\"Error: \", str(e))\n",
    "\n"
   ]
  },
  {
   "cell_type": "markdown",
   "id": "d0500cf0-3492-4ace-8dec-8aa5b7de28d3",
   "metadata": {},
   "source": [
    "#### Opening files to see the images"
   ]
  },
  {
   "cell_type": "markdown",
   "id": "5e1c886f-d119-4b27-8ce5-48f25eca8d08",
   "metadata": {},
   "source": [
    "Below code shows how to load h5 files and open the image saved as tensor."
   ]
  },
  {
   "cell_type": "code",
   "execution_count": 7,
   "id": "1d49de1a-5b02-40f8-a7cc-20701544e772",
   "metadata": {},
   "outputs": [],
   "source": [
    "# Load data from a HDF5 file \n",
    "\n",
    "tensor_dict = {}\n",
    "label_dict = {}\n",
    "\n",
    "with h5py.File('assets/raw dataset/pet_sentinel_data_same cat.h5', 'r') as f:\n",
    "    for key in f:\n",
    "        group = f[key]\n",
    "        tensors = []\n",
    "        labels = []\n",
    "        for dname in group:\n",
    "            dset = group[dname]\n",
    "            tensors.append(dset[()])\n",
    "            labels.append(dset.attrs['label'])\n",
    "        tensor_dict[key] = tensors\n",
    "        label_dict[key] = labels"
   ]
  },
  {
   "cell_type": "code",
   "execution_count": 9,
   "id": "ca581609-904a-4916-9a99-0afbfffc2448",
   "metadata": {},
   "outputs": [
    {
     "data": {
      "text/plain": [
       "(dict_keys(['same cat']), dict_keys(['same cat']))"
      ]
     },
     "execution_count": 9,
     "metadata": {},
     "output_type": "execute_result"
    }
   ],
   "source": [
    "tensor_dict.keys(), label_dict.keys()"
   ]
  },
  {
   "cell_type": "code",
   "execution_count": 19,
   "id": "49217fed-fbf7-4053-a9f7-36f5f16460be",
   "metadata": {},
   "outputs": [],
   "source": [
    "\n",
    "# Image tensor\n",
    "image_tensor = torch.from_numpy(tensor_dict[\"same cat\"][0])  \n",
    "\n",
    "# Convert to PIL image\n",
    "to_pil = transforms.ToPILImage()\n",
    "image = to_pil(image_tensor)\n",
    "\n",
    "# Show the image\n",
    "image.show() \n"
   ]
  }
 ],
 "metadata": {
  "kernelspec": {
   "display_name": "Python [conda env:base] *",
   "language": "python",
   "name": "conda-base-py"
  },
  "language_info": {
   "codemirror_mode": {
    "name": "ipython",
    "version": 3
   },
   "file_extension": ".py",
   "mimetype": "text/x-python",
   "name": "python",
   "nbconvert_exporter": "python",
   "pygments_lexer": "ipython3",
   "version": "3.12.7"
  }
 },
 "nbformat": 4,
 "nbformat_minor": 5
}
